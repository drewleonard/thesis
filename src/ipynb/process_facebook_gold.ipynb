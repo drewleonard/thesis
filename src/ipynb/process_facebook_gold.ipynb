{
 "cells": [
  {
   "cell_type": "code",
   "execution_count": 1,
   "metadata": {},
   "outputs": [],
   "source": [
    "import pandas as pd\n",
    "import numpy as np\n",
    "import dateutil.parser\n",
    "import json\n",
    "import re\n",
    "import string \n",
    "%matplotlib inline"
   ]
  },
  {
   "cell_type": "code",
   "execution_count": 2,
   "metadata": {},
   "outputs": [],
   "source": [
    "# Load master data\n",
    "path = \"~/Documents/thesis/data/csv/FacebookAds.csv\"\n",
    "df = pd.read_csv(path)"
   ]
  },
  {
   "cell_type": "markdown",
   "metadata": {},
   "source": [
    "## Scrub df of missing or unwanted values"
   ]
  },
  {
   "cell_type": "code",
   "execution_count": 3,
   "metadata": {},
   "outputs": [],
   "source": [
    "# Remove rows with null values\n",
    "remove_rows_for_cols = ['AdText','AdID','CreationDate']\n",
    "for col in remove_rows_for_cols:\n",
    "    df = df[pd.notnull(df[col])]\n",
    "\n",
    "# Reset index after removing rows\n",
    "df = df.reset_index(drop=True)"
   ]
  },
  {
   "cell_type": "code",
   "execution_count": 4,
   "metadata": {},
   "outputs": [],
   "source": [
    "# Remove rows without valid text\n",
    "for n, e in enumerate(df['AdText']):\n",
    "    if e and re.match(r'^[_\\W]+$', e):\n",
    "        df.at[n, 'AdText'] = None"
   ]
  },
  {
   "cell_type": "code",
   "execution_count": 5,
   "metadata": {},
   "outputs": [],
   "source": [
    "# Remove rows with null AdText values\n",
    "for col in remove_rows_for_cols:\n",
    "    df = df[pd.notnull(df['AdText'])]\n",
    "\n",
    "# Reset index after removing rows\n",
    "df = df.reset_index(drop=True)"
   ]
  },
  {
   "cell_type": "code",
   "execution_count": 6,
   "metadata": {},
   "outputs": [],
   "source": [
    "# Scrub texts of social media phrases\n",
    "social_media_phrases = [\"Repost\",\"Subscribe to our channel:\",\"Follow my Facebook:\",\"Follow me on Instagram:\",\"Follow me on Twitter:\"]\n",
    "for n, e in enumerate(df['AdText']):\n",
    "    curr_e = e.lower()\n",
    "    curr_e = re.sub(r'http\\S+', '', curr_e)\n",
    "    [\n",
    "        curr_e.replace(phrase, '') for phrase in social_media_phrases\n",
    "    ]\n",
    "    df.at[n, 'AdText'] = curr_e"
   ]
  },
  {
   "cell_type": "code",
   "execution_count": 7,
   "metadata": {},
   "outputs": [],
   "source": [
    "df = df.drop(columns=[\n",
    "    'EndDate', 'Behaviors', 'PeopleWhoMatch', 'Language','FriendsOfConnections', \n",
    "    'ExcludedConnections', 'Gender', 'Generation',\n",
    "    'Politics', 'CustomAudience', 'SourceFile', \n",
    "    'SourceZip', 'pages', 'Location'\n",
    "])\n",
    "df = df.reset_index(drop=True)"
   ]
  },
  {
   "cell_type": "code",
   "execution_count": 8,
   "metadata": {},
   "outputs": [],
   "source": [
    "# Fix integer colums with null vals\n",
    "integer_cols = ['Clicks','Impressions','AdSpend']\n",
    "for integer_col in integer_cols:\n",
    "    df[integer_col] = df[integer_col].fillna(0.0)\n",
    "    \n",
    "# Fix string columns with null vals\n",
    "string_cols = [\"LandingPage\", \"Interests\",\"AdSpendCurrency\"]\n",
    "for string_col in string_cols:\n",
    "    df[string_col] = df[string_col].fillna(\"Unavailable\")"
   ]
  },
  {
   "cell_type": "code",
   "execution_count": 9,
   "metadata": {},
   "outputs": [
    {
     "name": "stdout",
     "output_type": "stream",
     "text": [
      "AdID: 0.0\n",
      "AdText: 0.0\n",
      "Clicks: 0.0\n",
      "Impressions: 0.0\n",
      "Age: 0.0\n",
      "CreationDate: 0.0\n",
      "LandingPage: 0.0\n",
      "Placements: 0.0\n",
      "Interests: 0.0\n",
      "AdSpend: 0.0\n",
      "AdSpendCurrency: 0.0\n"
     ]
    }
   ],
   "source": [
    "# Count null values as percentage for each column\n",
    "total_vals = len(df)\n",
    "for col in df.columns:\n",
    "    null_vals = df[col].isnull().sum()\n",
    "    print(\"{0}: {1}\".format(col, float(null_vals)/total_vals))"
   ]
  },
  {
   "cell_type": "markdown",
   "metadata": {},
   "source": [
    "## Create new columns for better covariates"
   ]
  },
  {
   "cell_type": "code",
   "execution_count": 10,
   "metadata": {},
   "outputs": [],
   "source": [
    "# CreationDateFormatted\n",
    "CreationDateFormatted = []\n",
    "for CreationDate in df['CreationDate']:\n",
    "    try:\n",
    "        new_date = dateutil.parser.parse(CreationDate[:-7]).date()\n",
    "        CreationDateFormatted.append(new_date)\n",
    "    except:\n",
    "        CreationDateFormatted.append(dateutil.parser.parse('2015-10-31'))\n",
    "df['CreationDateFormatted'] = CreationDateFormatted"
   ]
  },
  {
   "cell_type": "code",
   "execution_count": 11,
   "metadata": {},
   "outputs": [],
   "source": [
    "# AgeAverage\n",
    "AgeAverage = []\n",
    "for age_string in df['Age']:\n",
    "    l = re.findall(r'\\d+', age_string)\n",
    "    l = [float(n) for n in l]\n",
    "    AgeAverage.append(sum(l) / float(len(l)))\n",
    "df['AgeAverage'] = AgeAverage"
   ]
  },
  {
   "cell_type": "code",
   "execution_count": 12,
   "metadata": {},
   "outputs": [],
   "source": [
    "# AgeAverageBin\n",
    "df['AgeAverageBin'] = pd.qcut(df['AgeAverage'], 4, labels=[\"LowAge\",\"MidAge\",\"HighAge\"],duplicates='drop')"
   ]
  },
  {
   "cell_type": "code",
   "execution_count": 13,
   "metadata": {},
   "outputs": [],
   "source": [
    "# AdSpendBin\n",
    "df['AdSpendBin'] = pd.qcut(df['AdSpend'], 3, labels=[\"low\",\"mid\",\"high\"])"
   ]
  },
  {
   "cell_type": "code",
   "execution_count": 14,
   "metadata": {},
   "outputs": [],
   "source": [
    "# ClicksBin\n",
    "df['ClicksBin'] = pd.qcut(df['Clicks'], 3, labels=[\"low\",\"mid\",\"high\"])"
   ]
  },
  {
   "cell_type": "code",
   "execution_count": 15,
   "metadata": {},
   "outputs": [],
   "source": [
    "# ImpressionsBin\n",
    "df[\"ImpressionsBin\"] = pd.qcut(df['Impressions'], 3, labels=[\"low\",\"mid\",\"high\"])"
   ]
  },
  {
   "cell_type": "code",
   "execution_count": 16,
   "metadata": {},
   "outputs": [],
   "source": [
    "# InterestsGroups\n",
    "\n",
    "# Load mapped interests grups json file\n",
    "interests_path = \"/Users/drewnleonard/Documents/thesis/data/json/interest_groups.json\"\n",
    "with open(interests_path) as f:\n",
    "    interests_groups_map = json.load(f)\n",
    "\n",
    "for k, v in interests_groups_map.iteritems():\n",
    "    v = [e.lower() for e in v]\n",
    "    interests_groups_map[k] = set(v)\n",
    "\n",
    "interests_group_master = {}\n",
    "    \n",
    "for n, interests in enumerate(df['Interests']):\n",
    "    \n",
    "    # Continue if there are no available interests\n",
    "    if interests == 'Unavailable':\n",
    "        continue\n",
    "    \n",
    "    # Parse interests into list\n",
    "    interests_list = interests.split(',')\n",
    "    \n",
    "    found_interest_groups = {}\n",
    "    \n",
    "    # Iterate over interests in list\n",
    "    for interest in interests_list:\n",
    "        \n",
    "        interest = interest.lower()\n",
    "        \n",
    "        # Iterate over mapped groups\n",
    "        for interest_group_title, interest_group_keywords in interests_groups_map.iteritems():\n",
    "            \n",
    "            # For each mapped group, iterate over its keywords\n",
    "            for keyword in interest_group_keywords:\n",
    "                    \n",
    "                    # If keyword is in interest, record that and break\n",
    "                    if keyword in interest:\n",
    "                        \n",
    "                        if interest_group_title not in found_interest_groups:\n",
    "                            found_interest_groups[interest_group_title] = 0\n",
    "                        \n",
    "                        # Increment keyword's value \n",
    "                        found_interest_groups[interest_group_title] += 1\n",
    "                        \n",
    "                        break\n",
    "    \n",
    "    curr_group_title = \"Unavailable\"\n",
    "    curr_group_score = 0\n",
    "    \n",
    "    for k, v in found_interest_groups.iteritems():\n",
    "        curr_group_title = k if v > curr_group_score else curr_group_title\n",
    "        \n",
    "    df.at[n, 'Interests'] = curr_group_title\n",
    "                               \n",
    "# Algorithm:\n",
    "# Convert interests_groups_map values to sets, lowercase\n",
    "# For each ad\n",
    "# If interests are \"Unavailable\", continue\n",
    "# Split interests field into list\n",
    "# For each individual interest\n",
    "# Check whether that interest is part of any value set in interests_groups_map\n",
    "# If so, tally that for given interest group\n",
    "# At the end, pick interest group with highest score"
   ]
  },
  {
   "cell_type": "code",
   "execution_count": 20,
   "metadata": {},
   "outputs": [
    {
     "data": {
      "text/html": [
       "<div>\n",
       "<style scoped>\n",
       "    .dataframe tbody tr th:only-of-type {\n",
       "        vertical-align: middle;\n",
       "    }\n",
       "\n",
       "    .dataframe tbody tr th {\n",
       "        vertical-align: top;\n",
       "    }\n",
       "\n",
       "    .dataframe thead th {\n",
       "        text-align: right;\n",
       "    }\n",
       "</style>\n",
       "<table border=\"1\" class=\"dataframe\">\n",
       "  <thead>\n",
       "    <tr style=\"text-align: right;\">\n",
       "      <th></th>\n",
       "      <th>AdID</th>\n",
       "      <th>AdText</th>\n",
       "      <th>Clicks</th>\n",
       "      <th>Impressions</th>\n",
       "      <th>Age</th>\n",
       "      <th>CreationDate</th>\n",
       "      <th>LandingPage</th>\n",
       "      <th>Placements</th>\n",
       "      <th>Interests</th>\n",
       "      <th>AdSpend</th>\n",
       "      <th>AdSpendCurrency</th>\n",
       "      <th>CreationDateFormatted</th>\n",
       "      <th>AgeAverage</th>\n",
       "      <th>AgeAverageBin</th>\n",
       "      <th>AdSpendBin</th>\n",
       "      <th>ClicksBin</th>\n",
       "      <th>ImpressionsBin</th>\n",
       "    </tr>\n",
       "  </thead>\n",
       "  <tbody>\n",
       "    <tr>\n",
       "      <th>0</th>\n",
       "      <td>374</td>\n",
       "      <td>join us because we care. black matters.</td>\n",
       "      <td>0.0</td>\n",
       "      <td>137.0</td>\n",
       "      <td>18 - 65+</td>\n",
       "      <td>06/10/15 02:59:53 AM PDT</td>\n",
       "      <td>https://www.facebook.com/Black-Matters-1579673...</td>\n",
       "      <td>News Feed on desktop computers or News Feed on...</td>\n",
       "      <td>Unavailable</td>\n",
       "      <td>44.87</td>\n",
       "      <td>RUB</td>\n",
       "      <td>2015-06-10</td>\n",
       "      <td>41.5</td>\n",
       "      <td>MidAge</td>\n",
       "      <td>mid</td>\n",
       "      <td>low</td>\n",
       "      <td>mid</td>\n",
       "    </tr>\n",
       "    <tr>\n",
       "      <th>1</th>\n",
       "      <td>655</td>\n",
       "      <td>not every boy wants to be a soldier. a beautif...</td>\n",
       "      <td>35.0</td>\n",
       "      <td>452.0</td>\n",
       "      <td>18 - 65+</td>\n",
       "      <td>06/23/15 07:04:01 AM PDT</td>\n",
       "      <td>https://www.facebook.com/LGBT-United-839497472...</td>\n",
       "      <td>News Feed on desktop computers or News Feed on...</td>\n",
       "      <td>Unavailable</td>\n",
       "      <td>184.81</td>\n",
       "      <td>RUB</td>\n",
       "      <td>2015-06-23</td>\n",
       "      <td>41.5</td>\n",
       "      <td>MidAge</td>\n",
       "      <td>mid</td>\n",
       "      <td>mid</td>\n",
       "      <td>mid</td>\n",
       "    </tr>\n",
       "    <tr>\n",
       "      <th>2</th>\n",
       "      <td>664</td>\n",
       "      <td>\"people can tolerate two homosexuals they see ...</td>\n",
       "      <td>26.0</td>\n",
       "      <td>374.0</td>\n",
       "      <td>18 - 65+</td>\n",
       "      <td>06/23/15 07:02:40 AM PDT</td>\n",
       "      <td>https://www.facebook.com/LGBT-United-839497472...</td>\n",
       "      <td>News Feed on desktop computers or News Feed on...</td>\n",
       "      <td>Unavailable</td>\n",
       "      <td>99.95</td>\n",
       "      <td>RUB</td>\n",
       "      <td>2015-06-23</td>\n",
       "      <td>41.5</td>\n",
       "      <td>MidAge</td>\n",
       "      <td>mid</td>\n",
       "      <td>mid</td>\n",
       "      <td>mid</td>\n",
       "    </tr>\n",
       "    <tr>\n",
       "      <th>3</th>\n",
       "      <td>325</td>\n",
       "      <td>california... knows how to party california......</td>\n",
       "      <td>4.0</td>\n",
       "      <td>326.0</td>\n",
       "      <td>18 - 65+</td>\n",
       "      <td>06/10/15 07:34:52 AM PDT</td>\n",
       "      <td>https://www.facebook.com/Black-Matters-1579673...</td>\n",
       "      <td>News Feed on desktop computers or News Feed on...</td>\n",
       "      <td>Unavailable</td>\n",
       "      <td>45.94</td>\n",
       "      <td>RUB</td>\n",
       "      <td>2015-06-10</td>\n",
       "      <td>41.5</td>\n",
       "      <td>MidAge</td>\n",
       "      <td>mid</td>\n",
       "      <td>mid</td>\n",
       "      <td>mid</td>\n",
       "    </tr>\n",
       "    <tr>\n",
       "      <th>4</th>\n",
       "      <td>326</td>\n",
       "      <td>since 2010, over 350 of our lives have been ta...</td>\n",
       "      <td>517.0</td>\n",
       "      <td>1478.0</td>\n",
       "      <td>18 - 65+</td>\n",
       "      <td>06/12/15 03:13:16 AM PDT</td>\n",
       "      <td>https://www.facebook.com/Black-Matters-1579673...</td>\n",
       "      <td>News Feed on desktop computers or News Feed on...</td>\n",
       "      <td>Unavailable</td>\n",
       "      <td>99.97</td>\n",
       "      <td>RUB</td>\n",
       "      <td>2015-06-12</td>\n",
       "      <td>41.5</td>\n",
       "      <td>MidAge</td>\n",
       "      <td>mid</td>\n",
       "      <td>high</td>\n",
       "      <td>mid</td>\n",
       "    </tr>\n",
       "  </tbody>\n",
       "</table>\n",
       "</div>"
      ],
      "text/plain": [
       "   AdID                                             AdText  Clicks  \\\n",
       "0   374            join us because we care. black matters.     0.0   \n",
       "1   655  not every boy wants to be a soldier. a beautif...    35.0   \n",
       "2   664  \"people can tolerate two homosexuals they see ...    26.0   \n",
       "3   325  california... knows how to party california......     4.0   \n",
       "4   326  since 2010, over 350 of our lives have been ta...   517.0   \n",
       "\n",
       "   Impressions       Age              CreationDate  \\\n",
       "0        137.0  18 - 65+  06/10/15 02:59:53 AM PDT   \n",
       "1        452.0  18 - 65+  06/23/15 07:04:01 AM PDT   \n",
       "2        374.0  18 - 65+  06/23/15 07:02:40 AM PDT   \n",
       "3        326.0  18 - 65+  06/10/15 07:34:52 AM PDT   \n",
       "4       1478.0  18 - 65+  06/12/15 03:13:16 AM PDT   \n",
       "\n",
       "                                         LandingPage  \\\n",
       "0  https://www.facebook.com/Black-Matters-1579673...   \n",
       "1  https://www.facebook.com/LGBT-United-839497472...   \n",
       "2  https://www.facebook.com/LGBT-United-839497472...   \n",
       "3  https://www.facebook.com/Black-Matters-1579673...   \n",
       "4  https://www.facebook.com/Black-Matters-1579673...   \n",
       "\n",
       "                                          Placements    Interests  AdSpend  \\\n",
       "0  News Feed on desktop computers or News Feed on...  Unavailable    44.87   \n",
       "1  News Feed on desktop computers or News Feed on...  Unavailable   184.81   \n",
       "2  News Feed on desktop computers or News Feed on...  Unavailable    99.95   \n",
       "3  News Feed on desktop computers or News Feed on...  Unavailable    45.94   \n",
       "4  News Feed on desktop computers or News Feed on...  Unavailable    99.97   \n",
       "\n",
       "  AdSpendCurrency CreationDateFormatted  AgeAverage AgeAverageBin AdSpendBin  \\\n",
       "0             RUB            2015-06-10        41.5        MidAge        mid   \n",
       "1             RUB            2015-06-23        41.5        MidAge        mid   \n",
       "2             RUB            2015-06-23        41.5        MidAge        mid   \n",
       "3             RUB            2015-06-10        41.5        MidAge        mid   \n",
       "4             RUB            2015-06-12        41.5        MidAge        mid   \n",
       "\n",
       "  ClicksBin ImpressionsBin  \n",
       "0       low            mid  \n",
       "1       mid            mid  \n",
       "2       mid            mid  \n",
       "3       mid            mid  \n",
       "4      high            mid  "
      ]
     },
     "execution_count": 20,
     "metadata": {},
     "output_type": "execute_result"
    }
   ],
   "source": [
    "df.head()"
   ]
  },
  {
   "cell_type": "code",
   "execution_count": 23,
   "metadata": {},
   "outputs": [],
   "source": [
    "df.to_csv('~/Documents/thesis/data/csv/fb_gold.csv',index=False)"
   ]
  },
  {
   "cell_type": "code",
   "execution_count": null,
   "metadata": {},
   "outputs": [],
   "source": []
  }
 ],
 "metadata": {
  "kernelspec": {
   "display_name": "Python 2",
   "language": "python",
   "name": "python2"
  },
  "language_info": {
   "codemirror_mode": {
    "name": "ipython",
    "version": 2
   },
   "file_extension": ".py",
   "mimetype": "text/x-python",
   "name": "python",
   "nbconvert_exporter": "python",
   "pygments_lexer": "ipython2",
   "version": "2.7.14"
  }
 },
 "nbformat": 4,
 "nbformat_minor": 2
}
