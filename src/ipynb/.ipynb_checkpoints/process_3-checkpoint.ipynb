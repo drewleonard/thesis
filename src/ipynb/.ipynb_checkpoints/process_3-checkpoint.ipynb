{
 "cells": [
  {
   "cell_type": "code",
   "execution_count": 53,
   "metadata": {},
   "outputs": [],
   "source": [
    "from datetime import datetime\n",
    "import pandas as pd\n",
    "import math\n",
    "import re"
   ]
  },
  {
   "cell_type": "code",
   "execution_count": 54,
   "metadata": {},
   "outputs": [],
   "source": [
    "# Load data into pd.df\n",
    "path = \"~/Documents/thesis/data/csv/FacebookAds.csv\"\n",
    "df = pd.read_csv(path)\n",
    "\n",
    "# Remove rows with null AdText values\n",
    "df = df[pd.notnull(df['AdText'])]\n",
    "\n",
    "# Remove immediately unwanted columns\n",
    "# Either too unavailable or not useful\n",
    "df = df.drop(columns=[\n",
    "    'EndDate', 'Behaviors', 'PeopleWhoMatch', 'Placements', 'pages',\n",
    "    'FriendsOfConnections', 'ExcludedConnections', 'Gender', 'Generation',\n",
    "    'Politics', 'CustomAudience', 'SourceFile', 'SourceZip', 'Language'\n",
    "])\n",
    "\n",
    "# Remove rows will no CreationDate value\n",
    "df = df[pd.notnull(df['CreationDate'])]\n",
    "\n",
    "# Reset index after dropping columns\n",
    "df = df.reset_index(drop=True)"
   ]
  },
  {
   "cell_type": "code",
   "execution_count": 33,
   "metadata": {},
   "outputs": [],
   "source": [
    "# Fix float columns\n",
    "integer_cols = ['Clicks','Impressions','AdSpend']\n",
    "for n, e in df.iterrows():\n",
    "    for col in integer_cols:\n",
    "        if math.isnan(e[col]):\n",
    "            df.at[n,col] = 0.0"
   ]
  },
  {
   "cell_type": "code",
   "execution_count": 34,
   "metadata": {},
   "outputs": [],
   "source": [
    "# Fid AdText column\n",
    "for n, e in enumerate(df['AdText']):\n",
    "    curr_e = re.sub(r'http\\S+', '', e)\n",
    "    curr_e = curr_e.replace('Subscribe to our channel:','')\n",
    "    curr_e = curr_e.replace('Follow my Facebook:','')\n",
    "    curr_e = curr_e.replace('Follow me on Instagram:','')\n",
    "    curr_e = curr_e.replace('Follow me on Twitter:','')\n",
    "    df.at[n, 'AdText'] = curr_e"
   ]
  },
  {
   "cell_type": "code",
   "execution_count": 35,
   "metadata": {},
   "outputs": [],
   "source": [
    "# Fix some string cols\n",
    "string_cols = ['LandingPage','Location','Interests','AdSpendCurrency']\n",
    "for string_col in string_cols:\n",
    "    df[string_col] = df[string_col].astype(str)\n",
    "    for n, e in enumerate(df[string_col]):\n",
    "        if e == 'nan':\n",
    "            df.at[n, string_col] = 'unavailable'"
   ]
  },
  {
   "cell_type": "code",
   "execution_count": 39,
   "metadata": {},
   "outputs": [],
   "source": [
    "interest_keywords = {\n",
    "    'left wing': [\n",
    "        'humanitarianism', 'i have a dream', 'anti-racism', 'social justice',\n",
    "        'wellness', 'liberalism', 'malcolm x', 'human rights', 'democratic',\n",
    "        'mother jones', 'bernie', 'libertarian'\n",
    "    ],\n",
    "    'right wing': [\n",
    "        'veterans', 'secession', 'patriotism', 'republican', 'tea party',\n",
    "        'southern', 'donald trump', 'vietnam', 'manufacturing', 'god',\n",
    "        'ron paul', 'breitbart', 'texas', 'fox news', 'jesus', 'confederate',\n",
    "        'cato institute', 'evangelicalism', 'right-wing', 'nationalism'\n",
    "    ],\n",
    "    'self defense': ['self-defense', 'self defense'],\n",
    "    'illegal immigration': [\n",
    "        'stop illegal immigration', 'deportation', 'illegal immigration',\n",
    "        'immigration'\n",
    "    ],\n",
    "    'gun': ['2nd amendment', 'gun rights', 'bear arms', 'second amendment'],\n",
    "    'black': [\n",
    "        'BlackNews.com', 'black power', 'cop block', 'police brutality',\n",
    "        'african american', 'african-american', 'black (color)',\n",
    "        'pan-africanism', 'martin luther king', 'black', 'african', 'trayvon',\n",
    "        'racial', 'anti-racism','martin luther king','racism in the united states'\n",
    "    ],\n",
    "    'islam': ['islam', 'quran', 'muslims', 'muslim'],\n",
    "    'police': [\n",
    "        'law enforcement', 'the badge', 'blue line', 'police or safety',\n",
    "        'police officer or safety'\n",
    "    ],\n",
    "    'hispanic': ['hispanic', 'mexican', 'latin', 'chicano', 'la raza'],\n",
    "    'native american': ['native american', 'american indian'],\n",
    "    'music': ['music', 'soundcloud', 'apple music', 'itunes', 'spotify','software'],\n",
    "    'entertainment': [\n",
    "        'buzzfeed', '9gag', 'entertainment', 'imgur', 'humour', 'funny',\n",
    "        'reddit', 'games', 'meme'\n",
    "    ],\n",
    "    'lgbt': ['lgbt', 'gay', 'transgender', 'trans', 'homosexuality'],\n",
    "    'mainstream':\n",
    "    ['syria', 'army', 'hillary', 'government', 'obama', 'senate', 'tax', 'political party'],\n",
    "    'prison': ['prison', 'incarceration', 'correctional', 'inmates'],\n",
    "    'unavailable': ['unavailable']\n",
    "}\n"
   ]
  },
  {
   "cell_type": "code",
   "execution_count": 45,
   "metadata": {},
   "outputs": [],
   "source": [
    "# Run through interests\n",
    "interest_map = {}\n",
    "\n",
    "for n, unique_interest in enumerate(df['Interests'].unique()):\n",
    "    \n",
    "    # Put unique interest in lower case\n",
    "    unique_interest = unique_interest.lower()\n",
    "    \n",
    "    # Arr to store found topics\n",
    "    found_topics = {}\n",
    "    \n",
    "    # Iterate over set of topics with interest keywords\n",
    "    for topic, keywords in interest_keywords.iteritems():\n",
    "        \n",
    "        for keyword in keywords:\n",
    "            if keyword in unique_interest:\n",
    "                if topic not in found_topics:\n",
    "                    found_topics[topic] = 0\n",
    "                found_topics[topic] += 1\n",
    "                \n",
    "    else:\n",
    "        interest_map[unique_interest] = found_topics\n"
   ]
  },
  {
   "cell_type": "code",
   "execution_count": 46,
   "metadata": {},
   "outputs": [],
   "source": [
    "for interest, topics in interest_map.iteritems():\n",
    "    \n",
    "    curr = {\n",
    "        'count': 0,\n",
    "        'name': ''\n",
    "    }\n",
    "    \n",
    "    for topic_name, topic_count in topics.iteritems():\n",
    "        if topic_count > curr['count']:\n",
    "            curr['count'] = topic_count\n",
    "            curr['name'] = topic_name\n",
    "    \n",
    "    if curr['name'] == '':\n",
    "        curr['name'] = 'mixed'\n",
    "    \n",
    "    interest_map[interest] = curr['name']\n"
   ]
  },
  {
   "cell_type": "code",
   "execution_count": 47,
   "metadata": {},
   "outputs": [],
   "source": [
    "for n, e in enumerate(df['Interests']):\n",
    "    df.at[n,'Interests'] = interest_map[e.lower()]"
   ]
  },
  {
   "cell_type": "code",
   "execution_count": null,
   "metadata": {},
   "outputs": [],
   "source": []
  }
 ],
 "metadata": {
  "kernelspec": {
   "display_name": "Python 2",
   "language": "python",
   "name": "python2"
  },
  "language_info": {
   "codemirror_mode": {
    "name": "ipython",
    "version": 2
   },
   "file_extension": ".py",
   "mimetype": "text/x-python",
   "name": "python",
   "nbconvert_exporter": "python",
   "pygments_lexer": "ipython2",
   "version": "2.7.14"
  }
 },
 "nbformat": 4,
 "nbformat_minor": 2
}
