{
 "cells": [
  {
   "cell_type": "code",
   "execution_count": 15,
   "metadata": {},
   "outputs": [],
   "source": [
    "from __future__ import division\n",
    "import pandas as pd\n",
    "import sys"
   ]
  },
  {
   "cell_type": "code",
   "execution_count": 17,
   "metadata": {},
   "outputs": [],
   "source": [
    "df = pd.read_csv('/Users/drewnleonard/Documents/thesis/data/csv/fb_gold.csv')"
   ]
  },
  {
   "cell_type": "code",
   "execution_count": 18,
   "metadata": {},
   "outputs": [],
   "source": [
    "# Remove unavailable\n",
    "df = df[df[\"AccountGroup\"] != 'Unavailable']\n",
    "df = df[df[\"Interests\"] != 'unavailable']\n",
    "df = df[['AccountGroup','Interests']]"
   ]
  },
  {
   "cell_type": "code",
   "execution_count": 19,
   "metadata": {},
   "outputs": [],
   "source": [
    "group_to_interest = {}\n",
    "for n, e in df.iterrows():\n",
    "    \n",
    "    group = e['AccountGroup']\n",
    "    interest = e['Interests']\n",
    "    \n",
    "    if group not in group_to_interest:\n",
    "        group_to_interest[group] = {}\n",
    "    \n",
    "    if interest not in group_to_interest[group]:\n",
    "        group_to_interest[group][interest] = 0\n",
    "    \n",
    "    group_to_interest[group][interest] += 1"
   ]
  },
  {
   "cell_type": "code",
   "execution_count": 20,
   "metadata": {},
   "outputs": [],
   "source": [
    "group_to_group = {}\n",
    "for group,interest_map in group_to_interest.iteritems():\n",
    "    for interest,count in interest_map.iteritems():\n",
    "        \n",
    "        for inner_group,inner_interest_map in group_to_interest.iteritems():\n",
    "            for inner_interest,inner_count in inner_interest_map.iteritems():\n",
    "                \n",
    "                if group != inner_group and interest == inner_interest:\n",
    "                    shared = min(count,inner_count)\n",
    "                    \n",
    "                    if inner_group not in group_to_group:\n",
    "                        group_to_group[inner_group] = {}\n",
    "                    if group not in group_to_group:\n",
    "                        group_to_group[group] = {}\n",
    "                    \n",
    "                    if group not in group_to_group[inner_group]:\n",
    "                        group_to_group[inner_group][group] = 0\n",
    "                    if inner_group not in group_to_group[group]:\n",
    "                        group_to_group[group][inner_group] = 0\n",
    "                    \n",
    "                    group_to_group[inner_group][group] += shared\n",
    "                    group_to_group[group][inner_group] += shared"
   ]
  },
  {
   "cell_type": "code",
   "execution_count": 21,
   "metadata": {},
   "outputs": [],
   "source": [
    "group1l = []\n",
    "group2l = []\n",
    "weightl = []\n",
    "\n",
    "for group1, group1_map in group_to_group.iteritems():\n",
    "    for group2, weight in group1_map.iteritems():\n",
    "        \n",
    "        group1l.append(group1)\n",
    "        group2l.append(group2)\n",
    "        weightl.append(weight)"
   ]
  },
  {
   "cell_type": "code",
   "execution_count": 22,
   "metadata": {},
   "outputs": [],
   "source": [
    "group_to_group_df = pd.DataFrame()\n",
    "group_to_group_df['group1'] = group1l\n",
    "group_to_group_df['group2'] = group2l\n",
    "group_to_group_df['weight'] = weightl"
   ]
  },
  {
   "cell_type": "code",
   "execution_count": 23,
   "metadata": {},
   "outputs": [],
   "source": [
    "# Get max weights for normalization\n",
    "group_weights = {}\n",
    "for n, e in group_to_group_df.iterrows():\n",
    "    \n",
    "    g1 = e['group1']\n",
    "    g2 = e['group2']\n",
    "    w = e['weight']\n",
    "    \n",
    "    if g1 not in group_weights:\n",
    "        group_weights[g1] = {}\n",
    "    if g2 not in group_weights:\n",
    "        group_weights[g2] = {}\n",
    "    \n",
    "    if 'min' not in group_weights[g1]:\n",
    "        group_weights[g1]['min'] = sys.maxsize\n",
    "    if 'min' not in group_weights[g2]:\n",
    "        group_weights[g2]['min'] = sys.maxsize\n",
    "    \n",
    "    if 'max' not in group_weights[g1]:\n",
    "        group_weights[g1]['max'] = -sys.maxsize\n",
    "    if 'max' not in group_weights[g2]:\n",
    "        group_weights[g2]['max'] = -sys.maxsize\n",
    "    \n",
    "    if w < group_weights[g1]['min']:\n",
    "        group_weights[g1]['min'] = w\n",
    "    if w < group_weights[g2]['min']:\n",
    "        group_weights[g2]['min'] = w\n",
    "    \n",
    "    if w > group_weights[g1]['max']:\n",
    "        group_weights[g1]['max'] = w\n",
    "    if w > group_weights[g2]['max']:\n",
    "        group_weights[g2]['max'] = w"
   ]
  },
  {
   "cell_type": "code",
   "execution_count": 24,
   "metadata": {},
   "outputs": [],
   "source": [
    "node_name = []\n",
    "node_id = []\n",
    "n = 0\n",
    "seen = set()\n",
    "for n, e in df.iterrows():\n",
    "    group = e['AccountGroup']\n",
    "    if group not in seen:\n",
    "        node_name.append(group)\n",
    "        node_id.append(n)\n",
    "        n += 1\n",
    "    seen.add(group)"
   ]
  },
  {
   "cell_type": "code",
   "execution_count": 25,
   "metadata": {},
   "outputs": [],
   "source": [
    "node_df = pd.DataFrame()\n",
    "node_df['node'] = node_name\n",
    "node_df['id'] = node_id"
   ]
  },
  {
   "cell_type": "code",
   "execution_count": 26,
   "metadata": {},
   "outputs": [],
   "source": [
    "node_df.to_csv('/Users/drewnleonard/Documents/thesis/data/csv/group_node.csv',index=False)\n",
    "group_to_group_df.to_csv('/Users/drewnleonard/Documents/thesis/data/csv/group_to_group.csv',index=False)"
   ]
  },
  {
   "cell_type": "code",
   "execution_count": 27,
   "metadata": {},
   "outputs": [
    {
     "data": {
      "text/plain": [
       "(62, 2)"
      ]
     },
     "execution_count": 27,
     "metadata": {},
     "output_type": "execute_result"
    }
   ],
   "source": [
    "node_df.shape"
   ]
  },
  {
   "cell_type": "code",
   "execution_count": 28,
   "metadata": {},
   "outputs": [
    {
     "data": {
      "text/plain": [
       "(1646, 3)"
      ]
     },
     "execution_count": 28,
     "metadata": {},
     "output_type": "execute_result"
    }
   ],
   "source": [
    "group_to_group_df.shape"
   ]
  },
  {
   "cell_type": "code",
   "execution_count": null,
   "metadata": {},
   "outputs": [],
   "source": [
    "# Normalize weights\n",
    "# normalized = []\n",
    "# for n, e in group_to_group_df.iterrows():\n",
    "    \n",
    "#     g1 = e['group1']\n",
    "#     g2 = e['group2']\n",
    "#     w = e['weight']\n",
    "    \n",
    "#     g1weights = group_weights[g1]\n",
    "#     g2weights = group_weights[g2]\n",
    "    \n",
    "#     if g1weights['max'] == g1weights['min']:\n",
    "#         g1norm = 0.5\n",
    "#     else:\n",
    "#         g1norm = (w - g1weights['min'])/(g1weights['max'] - g1weights['min'])\n",
    "    \n",
    "#     if g2weights['max'] == g2weights['min']:\n",
    "#         g2norm = 0.5\n",
    "#     else:\n",
    "#         g2norm = (w - g2weights['min'])/(g2weights['max'] - g2weights['min'])\n",
    "    \n",
    "#     avg_norm = (g1norm + g2norm) / 2\n",
    "#     normalized.append(avg_norm)\n",
    "    \n",
    "# group_to_group_df['weight'] = normalized"
   ]
  }
 ],
 "metadata": {
  "kernelspec": {
   "display_name": "Python 2",
   "language": "python",
   "name": "python2"
  },
  "language_info": {
   "codemirror_mode": {
    "name": "ipython",
    "version": 2
   },
   "file_extension": ".py",
   "mimetype": "text/x-python",
   "name": "python",
   "nbconvert_exporter": "python",
   "pygments_lexer": "ipython2",
   "version": "2.7.14"
  }
 },
 "nbformat": 4,
 "nbformat_minor": 2
}
