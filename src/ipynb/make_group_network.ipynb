{
 "cells": [
  {
   "cell_type": "code",
   "execution_count": 1,
   "metadata": {},
   "outputs": [],
   "source": [
    "import pandas as pd"
   ]
  },
  {
   "cell_type": "code",
   "execution_count": 15,
   "metadata": {},
   "outputs": [],
   "source": [
    "df = pd.read_csv('/Users/drewnleonard/Documents/thesis/data/csv/fb_gold.csv')"
   ]
  },
  {
   "cell_type": "code",
   "execution_count": 16,
   "metadata": {},
   "outputs": [],
   "source": [
    "##      source target weight\n",
    "## 1     C-3PO  R2-D2     17\n",
    "## 2      LUKE  R2-D2     13\n",
    "## 3   OBI-WAN  R2-D2      6\n",
    "## 4      LEIA  R2-D2      5\n",
    "## 5       HAN  R2-D2      5\n",
    "## 6 CHEWBACCA  R2-D2      3\n"
   ]
  },
  {
   "cell_type": "code",
   "execution_count": 17,
   "metadata": {},
   "outputs": [],
   "source": [
    "# Remove unavailable\n",
    "df = df[df[\"AccountGroup\"] != 'Unavailable']\n",
    "df = df[df[\"Interests\"] != 'unavailable']\n",
    "df = df[['AccountGroup','Interests']]"
   ]
  },
  {
   "cell_type": "code",
   "execution_count": 20,
   "metadata": {},
   "outputs": [],
   "source": [
    "group_to_interest = {}\n",
    "for n, e in df.iterrows():\n",
    "    \n",
    "    group = e['AccountGroup']\n",
    "    interest = e['Interests']\n",
    "    \n",
    "    if group not in group_to_interest:\n",
    "        group_to_interest[group] = {}\n",
    "    \n",
    "    if interest not in group_to_interest[group]:\n",
    "        group_to_interest[group][interest] = 0\n",
    "    \n",
    "    group_to_interest[group][interest] += 1"
   ]
  },
  {
   "cell_type": "code",
   "execution_count": 25,
   "metadata": {},
   "outputs": [],
   "source": [
    "group_to_group = {}\n",
    "for group,interest_map in group_to_interest.iteritems():\n",
    "    for interest,count in interest_map.iteritems():\n",
    "        \n",
    "        for inner_group,inner_interest_map in group_to_interest.iteritems():\n",
    "            for inner_interest,inner_count in inner_interest_map.iteritems():\n",
    "                \n",
    "                if group != inner_group and interest == inner_interest:\n",
    "                    shared = min(count,inner_count)\n",
    "                    \n",
    "                    if inner_group in group_to_group:\n",
    "                        if group not in group_to_group[inner_group]:\n",
    "                            group_to_group[inner_group][group] = 0\n",
    "                        group_to_group[inner_group][group] += shared\n",
    "                    elif group in group_to_group:\n",
    "                        if inner_group not in group_to_group[group]:\n",
    "                            group_to_group[group][inner_group] = 0\n",
    "                        group_to_group[group][inner_group] += shared\n",
    "                    else:\n",
    "                        group_to_group[group] = {}\n",
    "                        group_to_group[group][inner_group] = shared\n",
    "                    "
   ]
  },
  {
   "cell_type": "code",
   "execution_count": 35,
   "metadata": {},
   "outputs": [],
   "source": [
    "group1l = []\n",
    "group2l = []\n",
    "weightl = []\n",
    "\n",
    "for group1, group1_map in group_to_group.iteritems():\n",
    "    for group2, weight in group1_map.iteritems():\n",
    "        \n",
    "        group1l.append(group1)\n",
    "        group2l.append(group2)\n",
    "        weightl.append(weight)"
   ]
  },
  {
   "cell_type": "code",
   "execution_count": 36,
   "metadata": {},
   "outputs": [],
   "source": [
    "group_to_group_df = pd.DataFrame()\n",
    "group_to_group_df['group1'] = group1l\n",
    "group_to_group_df['group2'] = group2l\n",
    "group_to_group_df['weight'] = weightl"
   ]
  },
  {
   "cell_type": "code",
   "execution_count": 50,
   "metadata": {},
   "outputs": [],
   "source": [
    "node_name = []\n",
    "node_id = []\n",
    "n = 0\n",
    "seen = set()\n",
    "for n, e in df.iterrows():\n",
    "    group = e['AccountGroup']\n",
    "    if group not in seen:\n",
    "        node_name.append(group)\n",
    "        node_id.append(n)\n",
    "        n += 1\n",
    "    seen.add(group)"
   ]
  },
  {
   "cell_type": "code",
   "execution_count": 51,
   "metadata": {},
   "outputs": [],
   "source": [
    "node_df = pd.DataFrame()\n",
    "node_df['node'] = node_name\n",
    "node_df['id'] = node_id"
   ]
  },
  {
   "cell_type": "code",
   "execution_count": 53,
   "metadata": {},
   "outputs": [],
   "source": [
    "node_df.to_csv('/Users/drewnleonard/Documents/thesis/data/csv/group_node.csv',index=False)\n",
    "group_to_group_df.to_csv('/Users/drewnleonard/Documents/thesis/data/csv/group_to_group.csv',index=False)"
   ]
  },
  {
   "cell_type": "code",
   "execution_count": 54,
   "metadata": {},
   "outputs": [
    {
     "data": {
      "text/plain": [
       "(61, 2)"
      ]
     },
     "execution_count": 54,
     "metadata": {},
     "output_type": "execute_result"
    }
   ],
   "source": [
    "node_df.shape"
   ]
  },
  {
   "cell_type": "code",
   "execution_count": 56,
   "metadata": {},
   "outputs": [
    {
     "data": {
      "text/plain": [
       "(622, 3)"
      ]
     },
     "execution_count": 56,
     "metadata": {},
     "output_type": "execute_result"
    }
   ],
   "source": [
    "group_to_group_df.shape"
   ]
  },
  {
   "cell_type": "code",
   "execution_count": null,
   "metadata": {},
   "outputs": [],
   "source": []
  }
 ],
 "metadata": {
  "kernelspec": {
   "display_name": "Python 2",
   "language": "python",
   "name": "python2"
  },
  "language_info": {
   "codemirror_mode": {
    "name": "ipython",
    "version": 2
   },
   "file_extension": ".py",
   "mimetype": "text/x-python",
   "name": "python",
   "nbconvert_exporter": "python",
   "pygments_lexer": "ipython2",
   "version": "2.7.14"
  }
 },
 "nbformat": 4,
 "nbformat_minor": 2
}
