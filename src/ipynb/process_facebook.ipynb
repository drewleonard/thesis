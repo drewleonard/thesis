{
 "cells": [
  {
   "cell_type": "code",
   "execution_count": 1,
   "metadata": {},
   "outputs": [],
   "source": [
    "import pandas as pd"
   ]
  },
  {
   "cell_type": "code",
   "execution_count": 2,
   "metadata": {},
   "outputs": [],
   "source": [
    "path = \"~/Documents/thesis/data/csv/FacebookAds.csv\"\n",
    "df = pd.read_csv(path)"
   ]
  },
  {
   "cell_type": "code",
   "execution_count": 20,
   "metadata": {},
   "outputs": [
    {
     "name": "stdout",
     "output_type": "stream",
     "text": [
      "3475\n"
     ]
    }
   ],
   "source": [
    "# Remove rows with null AdText values\n",
    "df = df[pd.notnull(df['AdText'])]"
   ]
  },
  {
   "cell_type": "code",
   "execution_count": 32,
   "metadata": {},
   "outputs": [
    {
     "name": "stdout",
     "output_type": "stream",
     "text": [
      "AdID: 0.0\n",
      "AdText: 0.0\n",
      "Clicks: 0.0\n",
      "Impressions: 0.0\n",
      "Age: 0.0\n",
      "CreationDate: 0.0\n",
      "LandingPage: 0.0\n",
      "Location: 0.0\n",
      "Placements: 0.0\n",
      "SourceFile: 0.0\n",
      "SourceZip: 0.0\n",
      "pages: 0.0\n"
     ]
    }
   ],
   "source": [
    "# Count null values as percentage for each column\n",
    "total_vals = len(df)\n",
    "for col in df.columns:\n",
    "    null_vals = df[col].isnull().sum()\n",
    "    print(\"{0}: {1}\".format(col, float(null_vals)/total_vals))"
   ]
  },
  {
   "cell_type": "code",
   "execution_count": 28,
   "metadata": {},
   "outputs": [],
   "source": [
    "# Remove some rows with null values\n",
    "df = df[pd.notnull(df['Clicks'])]\n",
    "df = df[pd.notnull(df['Impressions'])]\n",
    "df = df[pd.notnull(df['CreationDate'])]\n",
    "df = df[pd.notnull(df['LandingPage'])]\n",
    "df = df[pd.notnull(df['Location'])]"
   ]
  },
  {
   "cell_type": "code",
   "execution_count": 31,
   "metadata": {},
   "outputs": [],
   "source": [
    "# Remove columns with lots of null values\n",
    "df = df.drop(columns=[\n",
    "    'EndDate', 'Behaviors', 'PeopleWhoMatch', 'Interests', 'Language',\n",
    "    'FriendsOfConnections', 'ExcludedConnections', 'Gender', 'Generation',\n",
    "    'Politics', 'CustomAudience', 'AdSpend', 'AdSpendCurrency'\n",
    "])"
   ]
  },
  {
   "cell_type": "code",
   "execution_count": 35,
   "metadata": {},
   "outputs": [],
   "source": [
    "# Remove some extra columns\n",
    "df = df.drop(columns=[\n",
    "    'SourceFile', 'SourceZip', 'pages'\n",
    "])"
   ]
  },
  {
   "cell_type": "code",
   "execution_count": 36,
   "metadata": {},
   "outputs": [],
   "source": [
    "df = df.reset_index(drop=True)"
   ]
  },
  {
   "cell_type": "code",
   "execution_count": 38,
   "metadata": {},
   "outputs": [
    {
     "data": {
      "text/plain": [
       "3363"
      ]
     },
     "execution_count": 38,
     "metadata": {},
     "output_type": "execute_result"
    }
   ],
   "source": [
    "len(df)"
   ]
  },
  {
   "cell_type": "code",
   "execution_count": 40,
   "metadata": {},
   "outputs": [],
   "source": [
    "# Write to CSV\n",
    "df.to_csv('~/Documents/thesis/data/csv/fb_metadata.csv')"
   ]
  },
  {
   "cell_type": "code",
   "execution_count": null,
   "metadata": {},
   "outputs": [],
   "source": []
  }
 ],
 "metadata": {
  "kernelspec": {
   "display_name": "Python 3",
   "language": "python",
   "name": "python3"
  },
  "language_info": {
   "codemirror_mode": {
    "name": "ipython",
    "version": 2
   },
   "file_extension": ".py",
   "mimetype": "text/x-python",
   "name": "python",
   "nbconvert_exporter": "python",
   "pygments_lexer": "ipython2",
   "version": "2.7.15"
  }
 },
 "nbformat": 4,
 "nbformat_minor": 2
}
