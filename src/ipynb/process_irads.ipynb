{
 "cells": [
  {
   "cell_type": "code",
   "execution_count": 21,
   "metadata": {},
   "outputs": [],
   "source": [
    "import json"
   ]
  },
  {
   "cell_type": "code",
   "execution_count": 20,
   "metadata": {},
   "outputs": [],
   "source": [
    "with open('irads_json.json') as f:\n",
    "    irads = json.load(f)"
   ]
  },
  {
   "cell_type": "code",
   "execution_count": 23,
   "metadata": {},
   "outputs": [
    {
     "name": "stdout",
     "output_type": "stream",
     "text": [
      "[u'targeting', u'created', u'url', u'text', u'image', u'clicks', u'ended', u'impressions', u'pdf', u'spend', u'id']\n"
     ]
    }
   ],
   "source": [
    "for e in irads:\n",
    "    print e.keys()\n",
    "    break"
   ]
  },
  {
   "cell_type": "code",
   "execution_count": 24,
   "metadata": {},
   "outputs": [
    {
     "name": "stdout",
     "output_type": "stream",
     "text": [
      "{u'targeting': {u'language': [u'English (UK)', u'English (US)'], u'age': [u'18 - 65+'], u'excluded_connections': [u'Exclude people who like Black guns matter'], u'placements': [u'News Feed on desktop computers', u'News Feed on mobile devices', u'Right column on desktop computers'], u'people_who_match': {u'interests': [u'Martin Luther King', u'2nd Amendment', u'National Rifle Association', u'African-American culture', u'African-American Civil Rights Movement (1954\\u201468)', u'Gun Owners of America', u'African\\u2014American history', u'Second Amendment to the United States Constitution', u'Concealed carry in the United States', u'Firearm', u'Malcolm X']}, u'location': [u'United States']}, u'created': u'2016-11-14T04:10:27-08:00', u'url': u'https://www.facebook.com/ProtectBIackGunOwners/', u'text': u'Black American racial experience is real. We support the 2nd ammendment\\nfor our safety.\\n\\n', u'image': u'images/3186.png', u'clicks': 32, u'ended': None, u'impressions': 396, u'pdf': u'data/2016-11/P(1)0001720.pdf', u'spend': {u'currency': u'RUB', u'amount': u'1050.77'}, u'id': 3186}\n"
     ]
    }
   ],
   "source": [
    "for e in irads:\n",
    "    for key in e.keys():\n",
    "        "
   ]
  },
  {
   "cell_type": "code",
   "execution_count": null,
   "metadata": {},
   "outputs": [],
   "source": [
    "def unpack(e,title):\n",
    "    for key in e.keys():\n",
    "        \n",
    "        if type(e[key]) is dict:\n",
    "            unpack(e[key],title.append(str(key)))\n",
    "            continue\n",
    "        \n",
    "        \n",
    "        "
   ]
  },
  {
   "cell_type": "code",
   "execution_count": 11,
   "metadata": {},
   "outputs": [],
   "source": [
    "works_data = json_normalize(data=irads, record_path='spend', \n",
    "                            meta=['currency', 'amount'],errors='ignore')"
   ]
  },
  {
   "cell_type": "code",
   "execution_count": 4,
   "metadata": {},
   "outputs": [
    {
     "data": {
      "text/html": [
       "<div>\n",
       "<style scoped>\n",
       "    .dataframe tbody tr th:only-of-type {\n",
       "        vertical-align: middle;\n",
       "    }\n",
       "\n",
       "    .dataframe tbody tr th {\n",
       "        vertical-align: top;\n",
       "    }\n",
       "\n",
       "    .dataframe thead th {\n",
       "        text-align: right;\n",
       "    }\n",
       "</style>\n",
       "<table border=\"1\" class=\"dataframe\">\n",
       "  <thead>\n",
       "    <tr style=\"text-align: right;\">\n",
       "      <th></th>\n",
       "      <th>clicks</th>\n",
       "      <th>created</th>\n",
       "      <th>ended</th>\n",
       "      <th>id</th>\n",
       "      <th>image</th>\n",
       "      <th>impressions</th>\n",
       "      <th>pdf</th>\n",
       "      <th>spend</th>\n",
       "      <th>targeting</th>\n",
       "      <th>text</th>\n",
       "      <th>url</th>\n",
       "    </tr>\n",
       "  </thead>\n",
       "  <tbody>\n",
       "    <tr>\n",
       "      <th>0</th>\n",
       "      <td>32</td>\n",
       "      <td>2016-11-14T04:10:27-08:00</td>\n",
       "      <td>None</td>\n",
       "      <td>3186</td>\n",
       "      <td>images/3186.png</td>\n",
       "      <td>396</td>\n",
       "      <td>data/2016-11/P(1)0001720.pdf</td>\n",
       "      <td>{u'currency': u'RUB', u'amount': u'1050.77'}</td>\n",
       "      <td>{u'language': [u'English (UK)', u'English (US)...</td>\n",
       "      <td>Black American racial experience is real. We s...</td>\n",
       "      <td>https://www.facebook.com/ProtectBIackGunOwners/</td>\n",
       "    </tr>\n",
       "    <tr>\n",
       "      <th>1</th>\n",
       "      <td>11056</td>\n",
       "      <td>2016-11-03T08:10:07-07:00</td>\n",
       "      <td>2016-11-10T07:10:07-08:00</td>\n",
       "      <td>1084</td>\n",
       "      <td>images/1084.png</td>\n",
       "      <td>64032</td>\n",
       "      <td>data/2016-11/P(1)0002879.pdf</td>\n",
       "      <td>{u'currency': u'RUB', u'amount': u'500.00'}</td>\n",
       "      <td>{u'interests': [u'Pan-Africanism', u'African-A...</td>\n",
       "      <td>The best costume for Halloween worth posting. ...</td>\n",
       "      <td>https://www.facebook.com/Blacktivist-128371547...</td>\n",
       "    </tr>\n",
       "    <tr>\n",
       "      <th>2</th>\n",
       "      <td>540</td>\n",
       "      <td>2016-11-11T03:57:07-08:00</td>\n",
       "      <td>2016-11-14T03:57:07-08:00</td>\n",
       "      <td>3135</td>\n",
       "      <td>images/3135.png</td>\n",
       "      <td>4514</td>\n",
       "      <td>data/2016-11/P(1)0005715.pdf</td>\n",
       "      <td>{u'currency': u'RUB', u'amount': u'69.00'}</td>\n",
       "      <td>{u'interests': [u'Martin Luther King', u'Afric...</td>\n",
       "      <td>Keep on whining and crying for your president,...</td>\n",
       "      <td>https://www.facebook.com/Woke-B|acks-294234600...</td>\n",
       "    </tr>\n",
       "    <tr>\n",
       "      <th>3</th>\n",
       "      <td>115</td>\n",
       "      <td>2016-11-15T04:55:06-08:00</td>\n",
       "      <td>2016-11-16T04:55:06-08:00</td>\n",
       "      <td>3167</td>\n",
       "      <td>images/3167.png</td>\n",
       "      <td>566</td>\n",
       "      <td>data/2016-11/P(1)0005768.pdf</td>\n",
       "      <td>{u'currency': u'RUB', u'amount': u'25.39'}</td>\n",
       "      <td>{u'interests': [u'Martin Luther King', u'Afric...</td>\n",
       "      <td>End the whining and crying, end the riots with...</td>\n",
       "      <td>https://www.facebook.com/Woke-Blacks-294234600...</td>\n",
       "    </tr>\n",
       "    <tr>\n",
       "      <th>4</th>\n",
       "      <td>4433</td>\n",
       "      <td>2016-11-30T07:15:04-08:00</td>\n",
       "      <td>2016-12-01T07:15:04-08:00</td>\n",
       "      <td>1139</td>\n",
       "      <td>images/1139.png</td>\n",
       "      <td>29629</td>\n",
       "      <td>data/2016-11/P(1)0000374.pdf</td>\n",
       "      <td>{u'currency': u'RUB', u'amount': u'395.08'}</td>\n",
       "      <td>{u'people_who_match': {u'interests': [u'Black ...</td>\n",
       "      <td>Black girls are the definition of national gre...</td>\n",
       "      <td>https://www.facebook.com/blacktivists/</td>\n",
       "    </tr>\n",
       "  </tbody>\n",
       "</table>\n",
       "</div>"
      ],
      "text/plain": [
       "   clicks                    created                      ended    id  \\\n",
       "0      32  2016-11-14T04:10:27-08:00                       None  3186   \n",
       "1   11056  2016-11-03T08:10:07-07:00  2016-11-10T07:10:07-08:00  1084   \n",
       "2     540  2016-11-11T03:57:07-08:00  2016-11-14T03:57:07-08:00  3135   \n",
       "3     115  2016-11-15T04:55:06-08:00  2016-11-16T04:55:06-08:00  3167   \n",
       "4    4433  2016-11-30T07:15:04-08:00  2016-12-01T07:15:04-08:00  1139   \n",
       "\n",
       "             image  impressions                           pdf  \\\n",
       "0  images/3186.png          396  data/2016-11/P(1)0001720.pdf   \n",
       "1  images/1084.png        64032  data/2016-11/P(1)0002879.pdf   \n",
       "2  images/3135.png         4514  data/2016-11/P(1)0005715.pdf   \n",
       "3  images/3167.png          566  data/2016-11/P(1)0005768.pdf   \n",
       "4  images/1139.png        29629  data/2016-11/P(1)0000374.pdf   \n",
       "\n",
       "                                          spend  \\\n",
       "0  {u'currency': u'RUB', u'amount': u'1050.77'}   \n",
       "1   {u'currency': u'RUB', u'amount': u'500.00'}   \n",
       "2    {u'currency': u'RUB', u'amount': u'69.00'}   \n",
       "3    {u'currency': u'RUB', u'amount': u'25.39'}   \n",
       "4   {u'currency': u'RUB', u'amount': u'395.08'}   \n",
       "\n",
       "                                           targeting  \\\n",
       "0  {u'language': [u'English (UK)', u'English (US)...   \n",
       "1  {u'interests': [u'Pan-Africanism', u'African-A...   \n",
       "2  {u'interests': [u'Martin Luther King', u'Afric...   \n",
       "3  {u'interests': [u'Martin Luther King', u'Afric...   \n",
       "4  {u'people_who_match': {u'interests': [u'Black ...   \n",
       "\n",
       "                                                text  \\\n",
       "0  Black American racial experience is real. We s...   \n",
       "1  The best costume for Halloween worth posting. ...   \n",
       "2  Keep on whining and crying for your president,...   \n",
       "3  End the whining and crying, end the riots with...   \n",
       "4  Black girls are the definition of national gre...   \n",
       "\n",
       "                                                 url  \n",
       "0    https://www.facebook.com/ProtectBIackGunOwners/  \n",
       "1  https://www.facebook.com/Blacktivist-128371547...  \n",
       "2  https://www.facebook.com/Woke-B|acks-294234600...  \n",
       "3  https://www.facebook.com/Woke-Blacks-294234600...  \n",
       "4             https://www.facebook.com/blacktivists/  "
      ]
     },
     "execution_count": 4,
     "metadata": {},
     "output_type": "execute_result"
    }
   ],
   "source": [
    "df.head()"
   ]
  },
  {
   "cell_type": "code",
   "execution_count": null,
   "metadata": {},
   "outputs": [],
   "source": []
  }
 ],
 "metadata": {
  "kernelspec": {
   "display_name": "Python 2",
   "language": "python",
   "name": "python2"
  },
  "language_info": {
   "codemirror_mode": {
    "name": "ipython",
    "version": 2
   },
   "file_extension": ".py",
   "mimetype": "text/x-python",
   "name": "python",
   "nbconvert_exporter": "python",
   "pygments_lexer": "ipython2",
   "version": "2.7.14"
  }
 },
 "nbformat": 4,
 "nbformat_minor": 2
}
